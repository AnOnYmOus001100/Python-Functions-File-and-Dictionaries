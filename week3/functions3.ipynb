{
 "cells": [
  {
   "cell_type": "code",
   "execution_count": 1,
   "metadata": {},
   "outputs": [
    {
     "name": "stdout",
     "output_type": "stream",
     "text": [
      "The result of 10 squared is 100.\n"
     ]
    }
   ],
   "source": [
    "'''\n",
    "How do we write our own fruitful function? Let’s start by creating a very simple mathematical function that we will call square. The square function will take one number as a parameter and return the result of squaring that number. Here is the black-box diagram with the Python code following.\n",
    "'''\n",
    "def square(x):\n",
    "    y = x * x\n",
    "    return y\n",
    "\n",
    "toSquare = 10\n",
    "result = square(toSquare)\n",
    "print(\"The result of {} squared is {}.\".format(toSquare, result))\n"
   ]
  },
  {
   "cell_type": "code",
   "execution_count": 2,
   "metadata": {},
   "outputs": [
    {
     "name": "stdout",
     "output_type": "stream",
     "text": [
      "100\n",
      "The result of 10 squared is None.\n"
     ]
    }
   ],
   "source": [
    "'''\n",
    "There is one more aspect of function return values that should be noted. All Python functions return the special value None unless there is an explicit return statement with a value other than None. Consider the following common mistake made by beginning Python programmers. As you step through this example, pay very close attention to the return value in the local variables listing. Then look at what is printed when the function is over.\n",
    "'''\n",
    "def square(x):\n",
    "    y = x * x\n",
    "    print(y)   # Bad! This is confusing! Should use return instead!\n",
    "\n",
    "toSquare = 10\n",
    "squareResult = square(toSquare)\n",
    "print(\"The result of {} squared is {}.\".format(toSquare, squareResult))"
   ]
  },
  {
   "cell_type": "code",
   "execution_count": 3,
   "metadata": {},
   "outputs": [
    {
     "name": "stdout",
     "output_type": "stream",
     "text": [
      "here\n",
      "5\n"
     ]
    }
   ],
   "source": [
    "'''\n",
    "A return statement, once executed, immediately terminates execution of a function, even if it is not the last statement in the function. In the following code, when line 3 executes, the value 5 is returned and assigned to the variable x, then printed. Lines 4 and 5 never execute. Run the following code and try making some modifications of it to make sure you understand why “there” and 10 never print out.\n",
    "'''\n",
    "def weird():\n",
    "    print(\"here\")\n",
    "    return 5\n",
    "    print(\"there\")\n",
    "    return 10\n",
    "\n",
    "x = weird()\n",
    "print(x)\n"
   ]
  },
  {
   "cell_type": "code",
   "execution_count": 5,
   "metadata": {},
   "outputs": [
    {
     "name": "stdout",
     "output_type": "stream",
     "text": [
      "False\n",
      "True\n"
     ]
    }
   ],
   "source": [
    "'''\n",
    "First, an English plan for this new function to define called longer_than_five:\n",
    "\n",
    "    You’ll want to pass in a list of strings (representing people’s first names) to the function.\n",
    "\n",
    "    You’ll want to iterate over all the items in the list, each of the strings.\n",
    "\n",
    "    As soon as you get to one name that is longer than five letters, you know the function should return True – yes, there is at least one name longer than five letters!\n",
    "\n",
    "    And if you go through the whole list and there was no name longer than five letters, then the function should return False.\n",
    "\n",
    "'''\n",
    "def longer_than_five(list_of_names):\n",
    "    for name in list_of_names: # iterate over the list to look at each name\n",
    "        if len(name) > 5: # as soon as you see a name longer than 5 letters,\n",
    "            return True # then return True!\n",
    "            # If Python executes that return statement, the function is over and the rest of the code will not run -- you already have your answer!\n",
    "    return False # You will only get to this line if you\n",
    "    # iterated over the whole list and did not get a name where\n",
    "    # the if expression evaluated to True, so at this point, it's correct to return False!\n",
    "\n",
    "# Here are a couple sample calls to the function with different lists of names. Try running this code in Codelens a few times and make sure you understand exactly what is happening.\n",
    "\n",
    "list1 = [\"Sam\",\"Tera\",\"Sal\",\"Amita\"]\n",
    "list2 = [\"Rey\",\"Ayo\",\"Lauren\",\"Natalie\"]\n",
    "\n",
    "print(longer_than_five(list1))\n",
    "print(longer_than_five(list2))"
   ]
  },
  {
   "cell_type": "code",
   "execution_count": 6,
   "metadata": {},
   "outputs": [
    {
     "name": "stdout",
     "output_type": "stream",
     "text": [
      "10\n",
      "Next we'll accumulate the sum\n"
     ]
    },
    {
     "data": {
      "text/plain": [
       "9"
      ]
     },
     "execution_count": 6,
     "metadata": {},
     "output_type": "execute_result"
    }
   ],
   "source": [
    "#func-4-7: How many lines will the following code print?\n",
    "def show_me_numbers(list_of_ints):\n",
    "    print(10)\n",
    "    print(\"Next we'll accumulate the sum\")\n",
    "    accum = 0\n",
    "    for num in list_of_ints:\n",
    "        accum = accum + num\n",
    "    return accum\n",
    "    print(\"All done with accumulation!\")\n",
    "\n",
    "show_me_numbers([4,2,3])\n"
   ]
  },
  {
   "cell_type": "code",
   "execution_count": 7,
   "metadata": {},
   "outputs": [
    {
     "data": {
      "text/plain": [
       "'any'"
      ]
     },
     "execution_count": 7,
     "metadata": {},
     "output_type": "execute_result"
    }
   ],
   "source": [
    "#8. Write a function named same that takes a string as input, and simply returns that string.\n",
    "def same(string):\n",
    "    return string\n",
    "same(\"any\")"
   ]
  },
  {
   "cell_type": "code",
   "execution_count": 8,
   "metadata": {},
   "outputs": [
    {
     "data": {
      "text/plain": [
       "10"
      ]
     },
     "execution_count": 8,
     "metadata": {},
     "output_type": "execute_result"
    }
   ],
   "source": [
    "#9. Write a function called same_thing that returns the parameter, unchanged.\n",
    "def same_thing(param):\n",
    "    return param\n",
    "same_thing(10)"
   ]
  },
  {
   "cell_type": "code",
   "execution_count": 9,
   "metadata": {},
   "outputs": [
    {
     "data": {
      "text/plain": [
       "2"
      ]
     },
     "execution_count": 9,
     "metadata": {},
     "output_type": "execute_result"
    }
   ],
   "source": [
    "#10. Write a function called subtract_three that takes an integer or any number as input, and returns that number minus three.\n",
    "def subtract_three(num):\n",
    "    return num - 3\n",
    "subtract_three(5)"
   ]
  },
  {
   "cell_type": "code",
   "execution_count": 10,
   "metadata": {},
   "outputs": [
    {
     "data": {
      "text/plain": [
       "12"
      ]
     },
     "execution_count": 10,
     "metadata": {},
     "output_type": "execute_result"
    }
   ],
   "source": [
    "#11. Write a function called change that takes one number as its input and returns that number, plus 7.\n",
    "def change(num):\n",
    "    return num+7\n",
    "change(5)"
   ]
  },
  {
   "cell_type": "code",
   "execution_count": 13,
   "metadata": {},
   "outputs": [
    {
     "data": {
      "text/plain": [
       "'Hello, my name is Jack and I love SI 106.'"
      ]
     },
     "execution_count": 13,
     "metadata": {},
     "output_type": "execute_result"
    }
   ],
   "source": [
    "#12. Write a function named intro that takes a string as input. Given the string “Becky” as input, the function should return: “Hello, my name is Becky and I love SI 106.”\n",
    "def intro(string):\n",
    "    str = \"Hello, my name is \" + string + \" and I love SI 106.\";\n",
    "    return str\n",
    "intro(\"Jack\")"
   ]
  },
  {
   "cell_type": "code",
   "execution_count": 14,
   "metadata": {},
   "outputs": [
    {
     "data": {
      "text/plain": [
       "'code for fun.'"
      ]
     },
     "execution_count": 14,
     "metadata": {},
     "output_type": "execute_result"
    }
   ],
   "source": [
    "#13. Write a function called s_change that takes one string as input and returns that string, concatenated with the string ” for fun.”.\n",
    "def s_change(string):\n",
    "    return string + \" for fun.\"\n",
    "s_change(\"code\")"
   ]
  },
  {
   "cell_type": "code",
   "execution_count": 16,
   "metadata": {},
   "outputs": [
    {
     "name": "stdout",
     "output_type": "stream",
     "text": [
      "This is a long string\n",
      "This is a short string\n"
     ]
    }
   ],
   "source": [
    "#14. Write a function called decision that takes a string as input, and then checks the number of characters. If it has over 17 characters, return “This is a long string”, if it is shorter or has 17 characters, return “This is a short string”.\n",
    "def decision(string):\n",
    "    char_count = 0\n",
    "    for char in string:\n",
    "        char_count += 1\n",
    "    if char_count > 17:\n",
    "        return 'This is a long string'\n",
    "    else:\n",
    "        return 'This is a short string'\n",
    "    \n",
    "print (decision(\"This is to test that if the string is more than 17\"))\n",
    "print (decision(\"print 2nd one.\"))\n"
   ]
  },
  {
   "cell_type": "code",
   "execution_count": null,
   "metadata": {},
   "outputs": [],
   "source": []
  }
 ],
 "metadata": {
  "kernelspec": {
   "display_name": "Python 3",
   "language": "python",
   "name": "python3"
  },
  "language_info": {
   "codemirror_mode": {
    "name": "ipython",
    "version": 3
   },
   "file_extension": ".py",
   "mimetype": "text/x-python",
   "name": "python",
   "nbconvert_exporter": "python",
   "pygments_lexer": "ipython3",
   "version": "3.5.2"
  }
 },
 "nbformat": 4,
 "nbformat_minor": 4
}
