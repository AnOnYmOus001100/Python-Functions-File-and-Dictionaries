{
 "cells": [
  {
   "cell_type": "code",
   "execution_count": 3,
   "metadata": {},
   "outputs": [
    {
     "name": "stdout",
     "output_type": "stream",
     "text": [
      "Less than 10.\n",
      "Greater than 10.\n",
      "Equal to 10.\n"
     ]
    }
   ],
   "source": [
    "'''\n",
    "Write a function named num_test that takes a number as input. If the number is greater than 10, the function should return “Greater than 10.” If the number is less than 10, the function should return “Less than 10.” If the number is equal to 10, the function should return “Equal to 10.”\n",
    "'''\n",
    "def num_test(num):\n",
    "    if num > 10:\n",
    "        return \"Greater than 10.\"\n",
    "    else:\n",
    "        if num < 10:\n",
    "            return \"Less than 10.\"\n",
    "        else:\n",
    "            return \"Equal to 10.\"\n",
    "print(num_test(4))\n",
    "print(num_test(14))\n",
    "print(num_test(10))"
   ]
  },
  {
   "cell_type": "code",
   "execution_count": 4,
   "metadata": {},
   "outputs": [
    {
     "name": "stdout",
     "output_type": "stream",
     "text": [
      "2\n",
      "5\n",
      "1\n"
     ]
    }
   ],
   "source": [
    "#Write a function that will return the number of digits in an integer.\n",
    "def numDigits(n):\n",
    "    return len(str(n))\n",
    "print(numDigits(50))\n",
    "print(numDigits(20000))\n",
    "print(numDigits(1))\n"
   ]
  },
  {
   "cell_type": "code",
   "execution_count": 7,
   "metadata": {},
   "outputs": [
    {
     "name": "stdout",
     "output_type": "stream",
     "text": [
      "yppah\n",
      "nohtyp\n"
     ]
    }
   ],
   "source": [
    "#Write a function that reverses its string argument.\n",
    "def reverse(astring):\n",
    "    reversed = ''\n",
    "    for char in astring:\n",
    "        reversed = char + reversed\n",
    "    return reversed\n",
    "\n",
    "print(reverse(\"happy\"))\n",
    "print(reverse(\"python\"))"
   ]
  },
  {
   "cell_type": "code",
   "execution_count": 9,
   "metadata": {},
   "outputs": [
    {
     "name": "stdout",
     "output_type": "stream",
     "text": [
      "doog\n",
      "nohtyp\n"
     ]
    }
   ],
   "source": [
    "'''\n",
    "Write a function that mirrors its string argument, generating a string containing the original string and the string backwards.\n",
    "'''\n",
    "def reverse(mystr):\n",
    "    reversed = ''\n",
    "    for char in mystr:\n",
    "        reversed = char + reversed\n",
    "    return reversed\n",
    "\n",
    "def mirror(mystr):\n",
    "    return mystr + reverse(mystr)\n",
    "\n",
    "print(reverse(\"good\"))\n",
    "print(reverse(\"python\"))"
   ]
  },
  {
   "cell_type": "code",
   "execution_count": 10,
   "metadata": {},
   "outputs": [
    {
     "name": "stdout",
     "output_type": "stream",
     "text": [
      "ha\n",
      "ale\n"
     ]
    }
   ],
   "source": [
    "#Write a function that removes all occurrences of a given letter from a string.\n",
    "def remove_letter(theLetter, theString):\n",
    "    newString = \"\"\n",
    "    for letter in theString:\n",
    "        if letter not in theLetter:\n",
    "            newString += letter\n",
    "    return newString\n",
    "\n",
    "print (remove_letter('t','that'))\n",
    "print (remove_letter('p','apple'))"
   ]
  },
  {
   "cell_type": "code",
   "execution_count": 11,
   "metadata": {},
   "outputs": [
    {
     "name": "stdout",
     "output_type": "stream",
     "text": [
      "2\n",
      "True\n",
      "[9, 8, 7, 6, 5, 4, 3, 2, 2, 1, 1, 0]\n",
      "3\n",
      "[0, 1, 1, 2, 'cat', 2, 3, 4, 5, 6, 7, 8, 9]\n"
     ]
    }
   ],
   "source": [
    "'''\n",
    "Although Python provides us with many list methods, it is good practice and very instructive to think about how they are implemented. Implement a Python function that works like the following:\n",
    "\n",
    "    count\n",
    "\n",
    "    in\n",
    "\n",
    "    reverse\n",
    "\n",
    "    index\n",
    "\n",
    "    insert\n",
    "\n",
    "'''\n",
    "def count(obj, lst):\n",
    "    count = 0\n",
    "    for e in lst:\n",
    "        if e == obj:\n",
    "            count = count + 1\n",
    "    return count\n",
    "\n",
    "def is_in(obj, lst):  # cannot be called in() because in is a reserved keyword\n",
    "    for e in lst:\n",
    "        if e == obj:\n",
    "            return True\n",
    "    return False\n",
    "\n",
    "def reverse(lst):\n",
    "    reversed = []\n",
    "    for i in range(len(lst)-1, -1, -1): # step through the original list backwards\n",
    "        reversed.append(lst[i])\n",
    "    return reversed\n",
    "\n",
    "def index(obj, lst):\n",
    "    for i in range(len(lst)):\n",
    "        if lst[i] == obj:\n",
    "            return i\n",
    "    return -1\n",
    "\n",
    "def insert(obj, index, lst):\n",
    "    newlst = []\n",
    "    for i in range(len(lst)):\n",
    "        if i == index:\n",
    "            newlst.append(obj)\n",
    "        newlst.append(lst[i])\n",
    "    return newlst\n",
    "\n",
    "lst = [0, 1, 1, 2, 2, 3, 4, 5, 6, 7, 8, 9]\n",
    "print(count(1, lst))\n",
    "print(is_in(4, lst))\n",
    "print(reverse(lst))\n",
    "print(index(2, lst))\n",
    "print(insert('cat', 4, lst))\n"
   ]
  },
  {
   "cell_type": "code",
   "execution_count": null,
   "metadata": {},
   "outputs": [],
   "source": [
    "#Write a function replace(s, old, new) that replaces all occurences of old with new in a string s:\n"
   ]
  },
  {
   "cell_type": "code",
   "execution_count": 12,
   "metadata": {},
   "outputs": [
    {
     "name": "stdout",
     "output_type": "stream",
     "text": [
      "992\n"
     ]
    }
   ],
   "source": [
    "'''\n",
    "Write a Python function that will take a the list of 100 random integers between 0 and 1000 and return the maximum value. (Note: there is a builtin function named max but pretend you cannot use it.\n",
    "'''\n",
    "import random\n",
    "\n",
    "def max(lst):\n",
    "    max = 0\n",
    "    for e in lst:\n",
    "        if e > max:\n",
    "            max = e\n",
    "    return max\n",
    "\n",
    "lst = []\n",
    "for i in range(100):\n",
    "    lst.append(random.randint(0, 1000))\n",
    "\n",
    "print(max(lst))\n"
   ]
  },
  {
   "cell_type": "code",
   "execution_count": null,
   "metadata": {},
   "outputs": [],
   "source": []
  },
  {
   "cell_type": "code",
   "execution_count": 13,
   "metadata": {},
   "outputs": [
    {
     "name": "stdout",
     "output_type": "stream",
     "text": [
      "50\n"
     ]
    }
   ],
   "source": [
    "'''\n",
    "Write a function sum_of_squares(xs) that computes the sum of the squares of the numbers in the list xs. For example, sum_of_squares([2, 3, 4]) should return 4+9+16 which is 29:\n",
    "'''\n",
    "import random\n",
    "\n",
    "def countOdd(lst):\n",
    "    odd = 0\n",
    "    for e in lst:\n",
    "        if e % 2 != 0:\n",
    "            odd = odd + 1\n",
    "    return odd\n",
    "\n",
    "# make a random list to test the function\n",
    "lst = []\n",
    "for i in range(100):\n",
    "    lst.append(random.randint(0, 1000))\n",
    "\n",
    "print(countOdd(lst))\n"
   ]
  },
  {
   "cell_type": "code",
   "execution_count": null,
   "metadata": {},
   "outputs": [],
   "source": []
  },
  {
   "cell_type": "code",
   "execution_count": 14,
   "metadata": {},
   "outputs": [
    {
     "name": "stdout",
     "output_type": "stream",
     "text": [
      "-23795\n"
     ]
    }
   ],
   "source": [
    "#Sum up all the negative numbers in a list.\n",
    "import random\n",
    "\n",
    "def sumNegative(lst):\n",
    "    sum = 0\n",
    "    for e in lst:\n",
    "        if e < 0:\n",
    "            sum = sum + e\n",
    "    return sum\n",
    "\n",
    "lst = []\n",
    "for i in range(100):\n",
    "    lst.append(random.randrange(-1000, 1000))\n",
    "\n",
    "print(sumNegative(lst))\n"
   ]
  },
  {
   "cell_type": "code",
   "execution_count": 16,
   "metadata": {},
   "outputs": [
    {
     "name": "stdout",
     "output_type": "stream",
     "text": [
      "5.0\n"
     ]
    }
   ],
   "source": [
    "'''\n",
    "Write a function findHypot. The function will be given the length of two sides of a right-angled triangle and it should return the length of the hypotenuse. (Hint: x ** 0.5 will return the square root, or use sqrt from the math module)\n",
    "'''\n",
    "import math\n",
    "def findHypot(a,b):\n",
    "    hyp = math.sqrt((a*a) + (b*b))\n",
    "    return hyp\n",
    "print(findHypot(3,4))"
   ]
  },
  {
   "cell_type": "code",
   "execution_count": 18,
   "metadata": {},
   "outputs": [
    {
     "name": "stdout",
     "output_type": "stream",
     "text": [
      "True\n",
      "False\n"
     ]
    }
   ],
   "source": [
    "'''\n",
    "Write a function called is_even(n) that takes an integer as an argument and returns True if the argument is an even number and False if it is odd.\n",
    "'''\n",
    "def is_even(n):\n",
    "    if (n % 2) == 0:\n",
    "        return True\n",
    "    else:\n",
    "        return False\n",
    "\n",
    "print(is_even(10))\n",
    "print(is_even(5))"
   ]
  },
  {
   "cell_type": "code",
   "execution_count": 20,
   "metadata": {},
   "outputs": [
    {
     "name": "stdout",
     "output_type": "stream",
     "text": [
      "True\n",
      "False\n"
     ]
    }
   ],
   "source": [
    "#Now write the function is_odd(n) that returns True when n is odd and False otherwise.\n",
    "def is_odd(n):\n",
    "    if (n % 2) == 0:\n",
    "        return False\n",
    "    else:\n",
    "        return True\n",
    "\n",
    "\n",
    "print(is_odd(3))\n",
    "print(is_odd(6))"
   ]
  },
  {
   "cell_type": "code",
   "execution_count": null,
   "metadata": {},
   "outputs": [],
   "source": [
    "'''\n",
    "Write a function is_rightangled which, given the length of three sides of a triangle, will determine whether the triangle is right-angled. Assume that the third argument to the function is always the longest side. It will return True if the triangle is right-angled, or False otherwise.\n",
    "\n",
    "Hint: floating point arithmetic is not always exactly accurate, so it is not safe to test floating point numbers for equality. If a good programmer wants to know whether x is equal or close enough to y, they would probably code it up as\n",
    "'''\n",
    "def is_rightangled(a, b, c):\n",
    "    if (abs((a*a + b*b) -c*c) > 0.0):\n",
    "        return True\n",
    "    elif abs(a*a + b*b) == abs(c**c):\n",
    "        return True\n",
    "\n",
    "    else:\n",
    "        return False\n",
    "print ()"
   ]
  }
 ],
 "metadata": {
  "kernelspec": {
   "display_name": "Python 3",
   "language": "python",
   "name": "python3"
  },
  "language_info": {
   "codemirror_mode": {
    "name": "ipython",
    "version": 3
   },
   "file_extension": ".py",
   "mimetype": "text/x-python",
   "name": "python",
   "nbconvert_exporter": "python",
   "pygments_lexer": "ipython3",
   "version": "3.5.2"
  }
 },
 "nbformat": 4,
 "nbformat_minor": 4
}
