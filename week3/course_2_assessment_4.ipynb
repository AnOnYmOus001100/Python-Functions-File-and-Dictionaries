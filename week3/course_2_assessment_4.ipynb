{
 "cells": [
  {
   "cell_type": "code",
   "execution_count": 1,
   "metadata": {},
   "outputs": [
    {
     "name": "stdout",
     "output_type": "stream",
     "text": [
      "5\n"
     ]
    }
   ],
   "source": [
    "#Write a function called int_return that takes an integer as input and returns the same integer.\n",
    "def int_return(num):\n",
    "    return num\n",
    "print (int_return(5))"
   ]
  },
  {
   "cell_type": "code",
   "execution_count": 2,
   "metadata": {},
   "outputs": [
    {
     "name": "stdout",
     "output_type": "stream",
     "text": [
      "7\n"
     ]
    }
   ],
   "source": [
    "#Write a function called add that takes any number as its input and returns that sum with 2 added.\n",
    "def add(num):\n",
    "    return num+2\n",
    "print (add(5))\n"
   ]
  },
  {
   "cell_type": "code",
   "execution_count": 3,
   "metadata": {},
   "outputs": [
    {
     "name": "stdout",
     "output_type": "stream",
     "text": [
      "heloNice to meet you!\n"
     ]
    }
   ],
   "source": [
    "#Write a function called change that takes any string, adds “Nice to meet you!” to the end of the argument given, and returns that new string.\n",
    "def change(string):\n",
    "    return string+\"Nice to meet you!\"\n",
    "print(change(\"helo\"))"
   ]
  },
  {
   "cell_type": "code",
   "execution_count": 4,
   "metadata": {},
   "outputs": [
    {
     "name": "stdout",
     "output_type": "stream",
     "text": [
      "8\n"
     ]
    }
   ],
   "source": [
    "#Write a function, accum, that takes a list of integers as input and returns the sum of those integers.\n",
    "def accum(lst):\n",
    "    sum = 0\n",
    "    for num in lst:\n",
    "        sum += num\n",
    "    return sum\n",
    "print(accum([3,4,1,0]))"
   ]
  },
  {
   "cell_type": "code",
   "execution_count": 5,
   "metadata": {},
   "outputs": [
    {
     "name": "stdout",
     "output_type": "stream",
     "text": [
      "Longer than 5\n",
      "Less than 5\n"
     ]
    }
   ],
   "source": [
    "#Write a function, length, that takes in a list as the input. If the length of the list is greater than or equal to 5, return “Longer than 5”. If the length is less than 5, return “Less than 5”.\n",
    "def length(lst):\n",
    "    count_length = 0\n",
    "    for num in lst:\n",
    "        count_length += 1\n",
    "    if count_length >= 5:\n",
    "        return \"Longer than 5\"\n",
    "    else:\n",
    "        return \"Less than 5\"\n",
    "print(length([2,4,5,5,6,7]))\n",
    "print (length([1]))\n"
   ]
  },
  {
   "cell_type": "code",
   "execution_count": 6,
   "metadata": {},
   "outputs": [
    {
     "name": "stdout",
     "output_type": "stream",
     "text": [
      "2.5\n",
      "8.0\n"
     ]
    }
   ],
   "source": [
    "'''\n",
    "You will need to write two functions for this problem. The first function, divide that takes in any number and returns that same number divided by 2. The second function called sum should take any number, divide it by 2, and add 6. It should return this new number. You should call the divide function within the sum function. Do not worry about decimals.\n",
    "'''\n",
    "def divide(num):\n",
    "    return num/2\n",
    "\n",
    "def sum(num):\n",
    "    return divide(num) + 6\n",
    "\n",
    "print(divide(5))\n",
    "print(sum(4))"
   ]
  },
  {
   "cell_type": "code",
   "execution_count": null,
   "metadata": {},
   "outputs": [],
   "source": []
  }
 ],
 "metadata": {
  "kernelspec": {
   "display_name": "Python 3",
   "language": "python",
   "name": "python3"
  },
  "language_info": {
   "codemirror_mode": {
    "name": "ipython",
    "version": 3
   },
   "file_extension": ".py",
   "mimetype": "text/x-python",
   "name": "python",
   "nbconvert_exporter": "python",
   "pygments_lexer": "ipython3",
   "version": "3.5.2"
  }
 },
 "nbformat": 4,
 "nbformat_minor": 4
}
