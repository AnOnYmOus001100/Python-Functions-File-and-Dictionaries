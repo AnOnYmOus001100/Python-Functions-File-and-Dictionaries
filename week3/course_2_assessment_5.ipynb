{
 "cells": [
  {
   "cell_type": "code",
   "execution_count": 1,
   "metadata": {},
   "outputs": [
    {
     "name": "stdout",
     "output_type": "stream",
     "text": [
      "('Beijing', 'London', 'Rio', 'Tokyo')\n"
     ]
    }
   ],
   "source": [
    "#1\n",
    "#Create a tuple called olympics with four elements: “Beijing”, “London”, “Rio”, “Tokyo”.\n",
    "olympics = (\"Beijing\",\"London\",\"Rio\",\"Tokyo\")\n",
    "print (olympics)"
   ]
  },
  {
   "cell_type": "code",
   "execution_count": 2,
   "metadata": {},
   "outputs": [
    {
     "name": "stdout",
     "output_type": "stream",
     "text": [
      "['China', 'England', 'Brazil', 'Japan']\n"
     ]
    }
   ],
   "source": [
    "#2\n",
    "#The list below, tuples_lst, is a list of tuples. Create a list of the second elements of each tuple and assign this list to the variable country.\n",
    "tuples_lst = [('Beijing', 'China', 2008), ('London', 'England', 2012), ('Rio', 'Brazil', 2016, 'Current'), ('Tokyo', 'Japan', 2020, 'Future')]\n",
    "country = []\n",
    "for year in tuples_lst:\n",
    "    country.append(year[1])\n",
    "print (country)"
   ]
  },
  {
   "cell_type": "code",
   "execution_count": 3,
   "metadata": {},
   "outputs": [
    {
     "name": "stdout",
     "output_type": "stream",
     "text": [
      "('Rio', 'Brazil', 2016)\n"
     ]
    }
   ],
   "source": [
    "#3\n",
    "#With only one line of code, assign the variables city, country, and year to the values of the tuple olymp.\n",
    "olymp = ('Rio', 'Brazil', 2016)\n",
    "city, country, year = olymp\n",
    "print (olymp)"
   ]
  },
  {
   "cell_type": "code",
   "execution_count": 4,
   "metadata": {},
   "outputs": [
    {
     "name": "stdout",
     "output_type": "stream",
     "text": [
      "('Hero', 'male', 16, 7, 'Tokyo')\n"
     ]
    }
   ],
   "source": [
    "#4\n",
    "'''\n",
    "Define a function called info with five parameters: name, gender, age, bday_month, and hometown. The function should then return a tuple with all five parameters in that order.\n",
    "'''\n",
    "def info(name, gender, age, bday_month, hometown):\n",
    "    return name,gender,age,bday_month,hometown\n",
    "print (info('Hero','male',16,7,'Tokyo'))\n"
   ]
  },
  {
   "cell_type": "code",
   "execution_count": 5,
   "metadata": {},
   "outputs": [
    {
     "name": "stdout",
     "output_type": "stream",
     "text": [
      "[12, 31, 10, 19, 8, 19, 13, 8]\n"
     ]
    }
   ],
   "source": [
    "#5\n",
    "'''\n",
    "Given is the dictionary, gold, which shows the country and the number of gold medals they have earned so far in the 2016 Olympics. Create a list, num_medals, that contains only the number of medals for each country. You must use the .items() method. Note: The .items() method provides a list of tuples. Do not use .keys() method.\n",
    "'''\n",
    "gold = {'USA':31, 'Great Britain':19, 'China':19, 'Germany':13, 'Russia':12, 'Japan':10, 'France':8, 'Italy':8}\n",
    "num_medals = []\n",
    "for medal in gold.items():\n",
    "    num_medal = medal[1]\n",
    "    num_medals.append(num_medal)\n",
    "print (num_medals)\n"
   ]
  },
  {
   "cell_type": "code",
   "execution_count": null,
   "metadata": {},
   "outputs": [],
   "source": []
  }
 ],
 "metadata": {
  "kernelspec": {
   "display_name": "Python 3",
   "language": "python",
   "name": "python3"
  },
  "language_info": {
   "codemirror_mode": {
    "name": "ipython",
    "version": 3
   },
   "file_extension": ".py",
   "mimetype": "text/x-python",
   "name": "python",
   "nbconvert_exporter": "python",
   "pygments_lexer": "ipython3",
   "version": "3.5.2"
  }
 },
 "nbformat": 4,
 "nbformat_minor": 4
}
