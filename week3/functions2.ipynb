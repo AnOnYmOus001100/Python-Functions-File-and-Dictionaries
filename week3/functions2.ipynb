{
 "cells": [
  {
   "cell_type": "code",
   "execution_count": 3,
   "metadata": {},
   "outputs": [
    {
     "name": "stdout",
     "output_type": "stream",
     "text": [
      "Hello\n",
      "Glad to meet you\n",
      "<class 'function'>\n",
      "<class 'str'>\n",
      "Hey, that just printed two lines with one line of code!\n",
      "Hello\n",
      "Glad to meet you\n",
      "<class 'function'>\n",
      "<class 'str'>\n"
     ]
    }
   ],
   "source": [
    "def hello():\n",
    "    print(\"Hello\")\n",
    "    print(\"Glad to meet you\")\n",
    "\n",
    "    print(type(hello))\n",
    "    print(type(\"hello\"))\n",
    "\n",
    "hello()\n",
    "print(\"Hey, that just printed two lines with one line of code!\")\n",
    "hello()  # do it again, just because we can..."
   ]
  },
  {
   "cell_type": "code",
   "execution_count": 4,
   "metadata": {},
   "outputs": [
    {
     "name": "stdout",
     "output_type": "stream",
     "text": [
      "Hello Iman and Jackie\n",
      "Glad to meet you\n",
      "Hello Class Class Class \n",
      "Glad to meet you\n"
     ]
    }
   ],
   "source": [
    "def hello2(s):\n",
    "    print(\"Hello \" + s)\n",
    "    print(\"Glad to meet you\")\n",
    "\n",
    "hello2(\"Iman\" + \" and Jackie\")\n",
    "hello2(\"Class \" * 3)\n"
   ]
  },
  {
   "cell_type": "code",
   "execution_count": null,
   "metadata": {},
   "outputs": [],
   "source": []
  }
 ],
 "metadata": {
  "kernelspec": {
   "display_name": "Python 3",
   "language": "python",
   "name": "python3"
  },
  "language_info": {
   "codemirror_mode": {
    "name": "ipython",
    "version": 3
   },
   "file_extension": ".py",
   "mimetype": "text/x-python",
   "name": "python",
   "nbconvert_exporter": "python",
   "pygments_lexer": "ipython3",
   "version": "3.5.2"
  }
 },
 "nbformat": 4,
 "nbformat_minor": 4
}
