{
 "cells": [
  {
   "cell_type": "code",
   "execution_count": null,
   "metadata": {},
   "outputs": [],
   "source": [
    "'''\n",
    "1. Create a dictionary called d that keeps track of all the characters in the string placement and notes how many times each character was seen. Then, find the key with the lowest value in this dictionary and assign that key to min_value.\n",
    "'''\n",
    "placement = \"Beaches are cool places to visit in spring however the Mackinaw Bridge is near. Most people visit Mackinaw later since the island is a cool place to explore.\"\n",
    "\n",
    "d = {}\n",
    "for char in placement:\n",
    "    if char not in d:\n",
    "        d[char] = 0\n",
    "    d[char] += 1\n",
    "print (d)    \n",
    "    \n",
    "keys = list(d.keys())\n",
    "    \n",
    "min_value = keys[0]\n",
    "for key in keys:\n",
    "    if d[key] < d[min_value]:\n",
    "        min_value = key\n",
    "print (min_value)\n",
    "    "
   ]
  },
  {
   "cell_type": "code",
   "execution_count": null,
   "metadata": {},
   "outputs": [],
   "source": [
    "'''\n",
    "5. Create a dictionary called lett_d that keeps track of all of the characters in the string product and notes how many times each character was seen. Then, find the key with the highest value in this dictionary and assign that key to max_value.\n",
    "'''\n",
    "product = \"iphone and android phones\"\n",
    "\n",
    "lett_d = {}\n",
    "for letter in product:\n",
    "    if letter not in lett_d:\n",
    "        lett_d[letter] = 0\n",
    "    lett_d[letter] += 1\n",
    "print (lett_d)\n",
    "\n",
    "keys = list(lett_d.keys())\n",
    "max_value = keys[0]\n",
    "for key in keys:\n",
    "    if lett_d[key] > lett_d[max_value]:\n",
    "        max_value = key\n",
    "print (max_value)"
   ]
  }
 ],
 "metadata": {
  "kernelspec": {
   "display_name": "Python 3",
   "language": "python",
   "name": "python3"
  },
  "language_info": {
   "codemirror_mode": {
    "name": "ipython",
    "version": 3
   },
   "file_extension": ".py",
   "mimetype": "text/x-python",
   "name": "python",
   "nbconvert_exporter": "python",
   "pygments_lexer": "ipython3",
   "version": "3.5.2"
  }
 },
 "nbformat": 4,
 "nbformat_minor": 4
}
