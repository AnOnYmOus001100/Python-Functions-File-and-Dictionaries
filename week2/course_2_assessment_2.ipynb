{
 "cells": [
  {
   "cell_type": "code",
   "execution_count": 10,
   "metadata": {},
   "outputs": [
    {
     "name": "stdout",
     "output_type": "stream",
     "text": [
      "{'China': 45, 'Great Britain': 38, 'Germany': 17, 'United States': 70, 'Russia': 30}\n"
     ]
    }
   ],
   "source": [
    "#1\n",
    "'''\n",
    "At the halfway point during the Rio Olympics, the United States had 70 medals, Great Britain had 38 medals, China had 45 medals, Russia had 30 medals, and Germany had 17 medals. Create a dictionary assigned to the variable medal_count with the country names as the keys and the number of medals the country had as each key’s value.\n",
    "'''\n",
    "medal_count = {'United States':70, 'Great Britain':38, 'China':45, 'Russia':30, 'Germany':17}\n",
    "print (medal_count)\n"
   ]
  },
  {
   "cell_type": "code",
   "execution_count": 11,
   "metadata": {},
   "outputs": [
    {
     "name": "stdout",
     "output_type": "stream",
     "text": [
      "{'Lochte': 12, 'Ledecky': 5, 'Dirado': 4, 'Manuel': 4, 'Phelps': 23, 'Adrian': 7}\n"
     ]
    }
   ],
   "source": [
    "#2\n",
    "'''\n",
    "Given the dictionary swimmers, add an additional key-value pair to the dictionary with \"Phelps\" as the key and the integer 23 as the value. Do not rewrite the entire dictionary.\n",
    "'''\n",
    "swimmers = {'Manuel':4, 'Lochte':12, 'Adrian':7, 'Ledecky':5, 'Dirado':4}\n",
    "swimmers['Phelps'] = 23\n",
    "print (swimmers)\n"
   ]
  },
  {
   "cell_type": "code",
   "execution_count": 3,
   "metadata": {},
   "outputs": [
    {
     "name": "stdout",
     "output_type": "stream",
     "text": [
      "{'cricket': 2, 'baseball': 9, 'basketball': 4, 'soccer': 4, 'hockey': 3}\n"
     ]
    }
   ],
   "source": [
    "#3\n",
    "'''\n",
    "Add the string “hockey” as a key to the dictionary sports_periods and assign it the value of 3. Do not rewrite the entire dictionary.\n",
    "'''\n",
    "sports_periods = {'baseball': 9, 'basketball': 4, 'soccer': 4, 'cricket': 2}\n",
    "sports_periods['hockey'] = 3\n",
    "print (sports_periods)\n"
   ]
  },
  {
   "cell_type": "code",
   "execution_count": 4,
   "metadata": {},
   "outputs": [
    {
     "name": "stdout",
     "output_type": "stream",
     "text": [
      "{'China': 27, 'Brazil': 15, 'USA': 33, 'England': 29, 'Italy': 12, 'Canada': 22, 'Argentina': 8, 'Spain': 21}\n"
     ]
    }
   ],
   "source": [
    "#4\n",
    "'''\n",
    "The dictionary golds contains information about how many gold medals each country won in the 2016 Olympics. But today, Spain won 2 more gold medals. Update golds to reflect this information.\n",
    "'''\n",
    "golds = {\"Italy\": 12, \"USA\": 33, \"Brazil\": 15, \"China\": 27, \"Spain\": 19, \"Canada\": 22, \"Argentina\": 8, \"England\": 29}\n",
    "golds[\"Spain\"] += 2\n",
    "print (golds)"
   ]
  },
  {
   "cell_type": "code",
   "execution_count": 5,
   "metadata": {},
   "outputs": [
    {
     "name": "stdout",
     "output_type": "stream",
     "text": [
      "['China', 'Brazil', 'USA', 'England', 'Italy', 'Canada', 'Argentina', 'Spain']\n"
     ]
    }
   ],
   "source": [
    "#5\n",
    "'''\n",
    "Create a list of the countries that are in the dictionary golds, and assign that list to the variable name countries. Do not hard code this.\n",
    "'''\n",
    "golds = {\"Italy\": 12, \"USA\": 33, \"Brazil\": 15, \"China\": 27, \"Spain\": 19, \"Canada\": 22, \"Argentina\": 8, \"England\": 29}\n",
    "countries = list(golds.keys())\n",
    "print (countries)\n"
   ]
  },
  {
   "cell_type": "code",
   "execution_count": 6,
   "metadata": {},
   "outputs": [
    {
     "name": "stdout",
     "output_type": "stream",
     "text": [
      "4\n"
     ]
    }
   ],
   "source": [
    "#6\n",
    "'''\n",
    "Provided is the dictionary, medal_count, which lists countries and their respective medal count at the halfway point in the 2016 Rio Olympics. Using dictionary mechanics, assign the medal count value for \"Belarus\" to the variable belarus. Do not hardcode this.\n",
    "'''\n",
    "medal_count = {'United States': 70, 'Great Britain':38, 'China':45, 'Russia':30, 'Germany':17, 'Italy':22, 'France': 22, 'Japan':26, 'Australia':22, 'South Korea':14, 'Hungary':12, 'Netherlands':10, 'Spain':5, 'New Zealand':8, 'Canada':13, 'Kazakhstan':8, 'Colombia':4, 'Switzerland':5, 'Belgium':4, 'Thailand':4, 'Croatia':3, 'Iran':3, 'Jamaica':3, 'South Africa':7, 'Sweden':6, 'Denmark':7, 'North Korea':6, 'Kenya':4, 'Brazil':7, 'Belarus':4, 'Cuba':5, 'Poland':4, 'Romania':4, 'Slovenia':3, 'Argentina':2, 'Bahrain':2, 'Slovakia':2, 'Vietnam':2, 'Czech Republic':6, 'Uzbekistan':5}\n",
    "belarus = medal_count['Belarus']\n",
    "print (belarus)\n"
   ]
  },
  {
   "cell_type": "code",
   "execution_count": 7,
   "metadata": {},
   "outputs": [
    {
     "name": "stdout",
     "output_type": "stream",
     "text": [
      "13\n"
     ]
    }
   ],
   "source": [
    "#7\n",
    "'''\n",
    "The dictionary total_golds contains the total number of gold medals that countries have won over the course of history. Use dictionary mechanics to find the number of golds Chile has won, and assign that number to the variable name chile_golds. Do not hard code this!\n",
    "'''\n",
    "total_golds = {\"Italy\": 114, \"Germany\": 782, \"Pakistan\": 10, \"Sweden\": 627, \"USA\": 2681, \"Zimbabwe\": 8, \"Greece\": 111, \"Mongolia\": 24, \"Brazil\": 108, \"Croatia\": 34, \"Algeria\": 15, \"Switzerland\": 323, \"Yugoslavia\": 87, \"China\": 526, \"Egypt\": 26, \"Norway\": 477, \"Spain\": 133, \"Australia\": 480, \"Slovakia\": 29, \"Canada\": 22, \"New Zealand\": 100, \"Denmark\": 180, \"Chile\": 13, \"Argentina\": 70, \"Thailand\": 24, \"Cuba\": 209, \"Uganda\": 7,  \"England\": 806, \"Denmark\": 180, \"Ukraine\": 122, \"Bahamas\": 12}\n",
    "chile_golds = total_golds[\"Chile\"]\n",
    "print (chile_golds)\n"
   ]
  },
  {
   "cell_type": "code",
   "execution_count": 8,
   "metadata": {},
   "outputs": [
    {
     "name": "stdout",
     "output_type": "stream",
     "text": [
      "4\n"
     ]
    }
   ],
   "source": [
    "#8\n",
    "'''\n",
    "Provided is a dictionary called US_medals which has the first 70 metals that the United States has won in 2016, and in which category they have won it in. Using dictionary mechanics, assign the value of the key \"Fencing\" to a variable fencing_value. Remember, do not hard code this.\n",
    "'''\n",
    "US_medals = {\"Swimming\": 33, \"Gymnastics\": 6, \"Track & Field\": 6, \"Tennis\": 3, \"Judo\": 2, \"Rowing\": 2, \"Shooting\": 3, \"Cycling - Road\": 1, \"Fencing\": 4, \"Diving\": 2, \"Archery\": 2, \"Cycling - Track\": 1, \"Equestrian\": 2, \"Golf\": 1, \"Weightlifting\": 1}\n",
    "fencing_value = US_medals[\"Fencing\"]\n",
    "print (fencing_value)\n"
   ]
  },
  {
   "cell_type": "code",
   "execution_count": null,
   "metadata": {},
   "outputs": [],
   "source": []
  }
 ],
 "metadata": {
  "kernelspec": {
   "display_name": "Python 3",
   "language": "python",
   "name": "python3"
  },
  "language_info": {
   "codemirror_mode": {
    "name": "ipython",
    "version": 3
   },
   "file_extension": ".py",
   "mimetype": "text/x-python",
   "name": "python",
   "nbconvert_exporter": "python",
   "pygments_lexer": "ipython3",
   "version": "3.5.2"
  }
 },
 "nbformat": 4,
 "nbformat_minor": 4
}
