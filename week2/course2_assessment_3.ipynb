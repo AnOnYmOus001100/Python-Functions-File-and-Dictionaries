{
 "cells": [
  {
   "cell_type": "code",
   "execution_count": 1,
   "metadata": {},
   "outputs": [
    {
     "name": "stdout",
     "output_type": "stream",
     "text": [
      "18\n"
     ]
    }
   ],
   "source": [
    "'''\n",
    "The dictionary Junior shows a schedule for a junior year semester. The key is the course name and the value is the number of credits. Find the total number of credits taken this semester and assign it to the variable credits. Do not hardcode this – use dictionary accumulation!\n",
    "\n",
    "'''\n",
    "Junior = {'SI 206':4, 'SI 310':4, 'BL 300':3, 'TO 313':3, 'BCOM 350':1, 'MO 300':3}\n",
    "\n",
    "credits = 0\n",
    "for credit in Junior:\n",
    "    credits += Junior[credit]\n",
    "print (credits)"
   ]
  },
  {
   "cell_type": "code",
   "execution_count": 2,
   "metadata": {},
   "outputs": [
    {
     "name": "stdout",
     "output_type": "stream",
     "text": [
      "{'f': 1, 'a': 1, 'l': 1, 'o': 1, 'p': 9, 's': 1, 't': 1, 'i': 3, 'd': 2, 'k': 3, ' ': 7, 'e': 8, 'c': 3, 'r': 3}\n"
     ]
    }
   ],
   "source": [
    "'''\n",
    "Create a dictionary, freq, that displays each character in string str1 as the key and its frequency as the value.\n",
    "'''\n",
    "str1 = \"peter piper picked a peck of pickled peppers\"\n",
    "\n",
    "freq = {}\n",
    "\n",
    "for word in str1:\n",
    "    for char in word:\n",
    "        if char not in freq:\n",
    "            freq[char] = 0\n",
    "        freq[char] += 1\n",
    "print (freq)"
   ]
  },
  {
   "cell_type": "code",
   "execution_count": 3,
   "metadata": {},
   "outputs": [
    {
     "name": "stdout",
     "output_type": "stream",
     "text": [
      "{'e': 1, 'h': 1, 'o': 1, 'l': 2}\n"
     ]
    }
   ],
   "source": [
    "'''\n",
    "Provided is a string saved to the variable name s1. Create a dictionary named counts that contains each letter in s1 and the number of times it occurs.\n",
    "'''\n",
    "s1 = \"hello\"\n",
    "\n",
    "counts = {}\n",
    "\n",
    "for letter in s1:\n",
    "    if letter not in counts:\n",
    "        counts[letter] = 0\n",
    "    counts[letter] += 1\n",
    "print (counts)\n"
   ]
  },
  {
   "cell_type": "code",
   "execution_count": 4,
   "metadata": {},
   "outputs": [
    {
     "name": "stdout",
     "output_type": "stream",
     "text": [
      "{'I': 2, 'wish': 2, 'apart': 1, 'land': 1, 'with': 2, 'dragons': 1, 'my': 1, 'in': 1, 'a': 1, 'all': 1, 'to': 1, 'heart': 1, 'fly': 1}\n"
     ]
    }
   ],
   "source": [
    "'''\n",
    "Create a dictionary, freq_words, that contains each word in string str1 as the key and its frequency as the value.\n",
    "'''\n",
    "str1 = \"I wish I wish with all my heart to fly with dragons in a land apart\"\n",
    "words = str1.split()\n",
    "\n",
    "freq_words = {}\n",
    "\n",
    "for word in words:\n",
    "    if word not in freq_words:\n",
    "        freq_words[word] = 0\n",
    "    freq_words[word] += 1\n",
    "print (freq_words)\n"
   ]
  },
  {
   "cell_type": "code",
   "execution_count": 5,
   "metadata": {},
   "outputs": [
    {
     "name": "stdout",
     "output_type": "stream",
     "text": [
      "{'the': 2, 'playing': 1, 'rain': 2, 'different': 1, 'entirely': 1, 'can': 1, 'Singing': 1, 'be': 1, 'in': 2, 'situations': 1, 'both': 1, 'are': 1, 'good': 1, 'but': 1, 'two': 1, 'and': 1}\n"
     ]
    }
   ],
   "source": [
    "'''\n",
    "Create a dictionary called wrd_d from the string sent, so that the key is a word and the value is how many times you have seen that word.\n",
    "'''\n",
    "sent = \"Singing in the rain and playing in the rain are two entirely different situations but both can be good\"\n",
    "words = sent.split()\n",
    "\n",
    "wrd_d = {}\n",
    "\n",
    "for word in words:\n",
    "    if word not in wrd_d:\n",
    "        wrd_d[word] = 0\n",
    "    wrd_d[word] += 1\n",
    "print (wrd_d)\n"
   ]
  },
  {
   "cell_type": "code",
   "execution_count": 6,
   "metadata": {},
   "outputs": [
    {
     "name": "stdout",
     "output_type": "stream",
     "text": [
      "{' ': 7, 'a': 3, 'l': 6, 'b': 1, 'e': 6, 's': 8, 't': 1, 'y': 2, 'r': 1, 'o': 1, 'h': 3}\n",
      "[' ', 'a', 'l', 'b', 'e', 's', 't', 'y', 'r', 'o', 'h']\n"
     ]
    }
   ],
   "source": [
    "'''\n",
    "Create the dictionary characters that shows each character from the string sally and its frequency. Then, find the most frequent letter based on the dictionary. Assign this letter to the variable best_char.\n",
    "'''\n",
    "sally = \"sally sells sea shells by the sea shore\"\n",
    "\n",
    "characters = {}\n",
    "\n",
    "for word in sally:\n",
    "    for char in word:\n",
    "        if char not in characters:\n",
    "            characters[char] = 0\n",
    "        characters[char] += 1\n",
    "print (characters)\n",
    "\n",
    "keys = list(characters.keys())\n",
    "print (keys)\n",
    "best_char = keys[0]\n"
   ]
  },
  {
   "cell_type": "code",
   "execution_count": 7,
   "metadata": {},
   "outputs": [
    {
     "name": "stdout",
     "output_type": "stream",
     "text": [
      "{'a': 5, 'l': 6, 'o': 2, 's': 8, 't': 2, 'd': 2, 'n': 1, ' ': 11, 'e': 7, 'b': 2, 'y': 3, 'r': 2, 'h': 4}\n",
      "['a', 'l', 'o', 's', 't', 'd', 'n', ' ', 'e', 'b', 'y', 'r', 'h']\n",
      "n\n"
     ]
    }
   ],
   "source": [
    "'''\n",
    "Find the least frequent letter. Create the dictionary characters that shows each character from string sally and its frequency. Then, find the least frequent letter in the string and assign the letter to the variable worst_char.\n",
    "'''\n",
    "sally = \"sally sells sea shells by the sea shore and by the road\"\n",
    "\n",
    "characters = {}\n",
    "\n",
    "for word in sally:\n",
    "    for char in word:\n",
    "        if char not in characters:\n",
    "            characters[char] = 0\n",
    "        characters[char] += 1\n",
    "print (characters)\n",
    "\n",
    "keys = list(characters.keys())\n",
    "print (keys)\n",
    "worst_char = keys[0]\n",
    "\n",
    "\n",
    "for key in keys:\n",
    "    if characters[key] < characters[worst_char]:\n",
    "        worst_char = key\n",
    "print (worst_char)"
   ]
  },
  {
   "cell_type": "code",
   "execution_count": 8,
   "metadata": {},
   "outputs": [
    {
     "name": "stdout",
     "output_type": "stream",
     "text": [
      "{'f': 9, 'h': 11, 'u': 8, 'n': 15, 'i': 14, 'd': 7, 'o': 17, 'g': 1, 'v': 3, 'm': 4, 'e': 29, 'r': 12, 'l': 11, 'a': 17, ' ': 53, 'w': 6, 'y': 1, 's': 15, 't': 19, ',': 4, '.': 4, 'b': 1, 'c': 3, 'k': 2}\n"
     ]
    }
   ],
   "source": [
    "'''\n",
    "Create a dictionary named letter_counts that contains each letter and the number of times it occurs in string1. Challenge: Letters should not be counted separately as upper-case and lower-case. Intead, all of them should be counted as lower-case.\n",
    "\n",
    "'''\n",
    "string1 = \"There is a tide in the affairs of men, Which taken at the flood, leads on to fortune. Omitted, all the voyage of their life is bound in shallows and in miseries. On such a full sea are we now afloat. And we must take the current when it serves, or lose our ventures.\"\n",
    "\n",
    "letter_counts = {}\n",
    "\n",
    "for letter in string1:\n",
    "    letter = letter.lower()\n",
    "    if letter not in letter_counts:\n",
    "        letter_counts[letter] = 0\n",
    "    letter_counts[letter] += 1\n",
    "print (letter_counts)"
   ]
  },
  {
   "cell_type": "code",
   "execution_count": 9,
   "metadata": {},
   "outputs": [
    {
     "name": "stdout",
     "output_type": "stream",
     "text": [
      "{'.': 2, 'a': 6, 'h': 6, 'o': 8, 'b': 2, 'c': 2, 's': 5, 't': 9, 'i': 3, 'f': 3, 'u': 7, 'n': 1, ' ': 20, 'g': 3, 'd': 1, 'v': 1, 'm': 3, 'e': 12, 'y': 1, 'r': 3, 'l': 1}\n"
     ]
    }
   ],
   "source": [
    "'''\n",
    "Create a dictionary called low_d that keeps track of all the characters in the string p and notes how many times each character was seen. Make sure that there are no repeats of characters as keys, such that “T” and “t” are both seen as a “t” for example.\n",
    "'''\n",
    "p = \"Summer is a great time to go outside. You have to be careful of the sun though because of the heat.\"\n",
    "p = p.lower()\n",
    "\n",
    "low_d = {}\n",
    "\n",
    "for char in p:\n",
    "    if char not in low_d:\n",
    "        low_d[char] = 0\n",
    "    low_d[char] += 1\n",
    "    \n",
    "print (low_d)\n"
   ]
  },
  {
   "cell_type": "code",
   "execution_count": null,
   "metadata": {},
   "outputs": [],
   "source": []
  }
 ],
 "metadata": {
  "kernelspec": {
   "display_name": "Python 3",
   "language": "python",
   "name": "python3"
  },
  "language_info": {
   "codemirror_mode": {
    "name": "ipython",
    "version": 3
   },
   "file_extension": ".py",
   "mimetype": "text/x-python",
   "name": "python",
   "nbconvert_exporter": "python",
   "pygments_lexer": "ipython3",
   "version": "3.5.2"
  }
 },
 "nbformat": 4,
 "nbformat_minor": 4
}
