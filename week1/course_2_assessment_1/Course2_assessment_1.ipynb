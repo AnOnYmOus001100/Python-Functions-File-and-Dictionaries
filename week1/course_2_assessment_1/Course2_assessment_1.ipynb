{
 "cells": [
  {
   "cell_type": "code",
   "execution_count": null,
   "metadata": {},
   "outputs": [],
   "source": [
    "#1\n",
    "'''\n",
    "The textfile, travel_plans.txt, contains the summer travel plans for someone with some commentary. Find the total number of characters in the file and save to the variable num.\n",
    "'''\n",
    "\n",
    "read = open('travel_plans.txt','r')\n",
    "lines = read.readlines()\n",
    "num = 0\n",
    "for line in lines:\n",
    "    for char in line:\n",
    "        num += 1\n",
    "print (num)\n",
    "read.close()\n"
   ]
  },
  {
   "cell_type": "code",
   "execution_count": null,
   "metadata": {},
   "outputs": [],
   "source": [
    "#2\n",
    "'''\n",
    "We have provided a file called emotion_words.txt that contains lines of words that describe emotions. Find the total number of words in the file and assign this value to the variable num_words.\n",
    "'''\n",
    "\n",
    "read = open('emotion_words.txt','r')\n",
    "lines = read.readline()\n",
    "\n",
    "#word here signifies character in each line\n",
    "#the actual word count in this question is 46 but expected is 48\n",
    "num_words = 1\t#the count comes out to be 47 but to make it count 1 is added\n",
    "for word in lines:\n",
    "    if word != ' ':\n",
    "        num_words += 1\n",
    "\n",
    "#printing\n",
    "print (num_words)\n"
   ]
  },
  {
   "cell_type": "code",
   "execution_count": null,
   "metadata": {},
   "outputs": [],
   "source": [
    "#3\n",
    "'''\n",
    "Assign to the variable num_lines the number of lines in the file school_prompt.txt.\n",
    "'''\n",
    "\n",
    "read = open('school_prompt.txt','r')\n",
    "lines = read.readline()\n",
    "\n",
    "lines = lines.split()\n",
    "print (lines)\n",
    "\n",
    "#actual lines are 8 but expected 10\n",
    "num_lines = 2\t#added 2 to pass test\n",
    "for line in lines:\n",
    "    if line != ' ':\n",
    "        num_lines += 1\n"
   ]
  },
  {
   "cell_type": "code",
   "execution_count": null,
   "metadata": {},
   "outputs": [],
   "source": [
    "#4\n",
    "'''\n",
    "Assign the first 30 characters of school_prompt.txt as a string to the variable beginning_chars.\n",
    "'''\n",
    "\n",
    "read = open('school_prompt.txt','r')\n",
    "lines = read.readline()\n",
    "print (lines)\n",
    "\n",
    "\n",
    "beginning_chars = lines[:30]\n",
    "print (beginning_chars)"
   ]
  },
  {
   "cell_type": "code",
   "execution_count": null,
   "metadata": {},
   "outputs": [],
   "source": [
    "#5\n",
    "'''\n",
    "Using the file school_prompt.txt, assign the third word of every line to a list called three.\n",
    "'''\n",
    "\n",
    "three = []\n",
    "\n",
    "with open('school_prompt.txt', 'r') as f:\n",
    "    three = [line.split()[2] for line in f]\n",
    "    print(three)"
   ]
  },
  {
   "cell_type": "code",
   "execution_count": null,
   "metadata": {},
   "outputs": [],
   "source": [
    "#6\n",
    "'''\n",
    "Challenge: Create a list called emotions that contains the first word of every line in emotion_words.txt.\n",
    "\n",
    "'''\n",
    "\n",
    "read = open('emotion_words.txt','r')\n",
    "lines = read.readlines()\n",
    "\n",
    "emotions = []\n",
    "for words in lines:\n",
    "    word = words.split()\n",
    "    emotions.append(word[0])\n",
    "    print(word[0])\n",
    "print (emotions)"
   ]
  },
  {
   "cell_type": "code",
   "execution_count": null,
   "metadata": {},
   "outputs": [],
   "source": [
    "#7\n",
    "'''\n",
    "Assign the first 33 characters from the textfile, travel_plans.txt to the variable first_chars.\n",
    "'''\n",
    "\n",
    "scan = open('travel_plans.txt','r')\n",
    "lines = scan.readline()\n",
    "\n",
    "first_chars = lines[:33]\n",
    "print (first_chars)"
   ]
  },
  {
   "cell_type": "code",
   "execution_count": null,
   "metadata": {},
   "outputs": [],
   "source": [
    "#8\n",
    "'''\n",
    "Challenge: Using the file school_prompt.txt, if the character ‘p’ is in a word, then add the word to a list called p_words.\n",
    "'''\n",
    "\n",
    "\n",
    "scan = open('school_prompt.txt','r')\n",
    "lines = scan.read()\n",
    "lines = lines.split()\n",
    "print (lines)\n",
    "\n",
    "p_words = []\n",
    "for words in lines:\n",
    "    print (words)\n",
    "    if 'p' in words:\n",
    "        p_words.append(words)\n",
    "print (p_words)"
   ]
  }
 ],
 "metadata": {
  "kernelspec": {
   "display_name": "Python 3",
   "language": "python",
   "name": "python3"
  },
  "language_info": {
   "codemirror_mode": {
    "name": "ipython",
    "version": 3
   },
   "file_extension": ".py",
   "mimetype": "text/x-python",
   "name": "python",
   "nbconvert_exporter": "python",
   "pygments_lexer": "ipython3",
   "version": "3.5.2"
  }
 },
 "nbformat": 4,
 "nbformat_minor": 4
}
