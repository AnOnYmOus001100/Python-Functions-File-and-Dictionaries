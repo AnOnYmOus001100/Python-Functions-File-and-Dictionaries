{
 "cells": [
  {
   "cell_type": "code",
   "execution_count": 1,
   "metadata": {},
   "outputs": [
    {
     "name": "stdout",
     "output_type": "stream",
     "text": [
      "[0, 1, 2, 3, 4, 5, 6, 7, 8, 9, 10, 11, 12, 13, 14, 15, 16, 17, 18, 19, 20, 21, 22, 23, 24, 25, 26, 27, 28, 29, 30, 31, 32, 33, 34, 35]\n"
     ]
    }
   ],
   "source": [
    "'''\n",
    "1. Using a while loop, create a list numbers that contains the numbers 0 through 35. Your while loop should initialize a counter variable to 0. On each iteration, the loop should append the current value of the counter to the list and the counter should increase by 1. The while loop should stop when the counter is greater than 35.\n",
    "\n",
    "'''\n",
    "numbers = []\n",
    "counter = 0\n",
    "while counter <= 35:\n",
    "    numbers.append(counter)\n",
    "    counter += 1\n",
    "print (numbers)\n",
    "\n"
   ]
  },
  {
   "cell_type": "code",
   "execution_count": 2,
   "metadata": {},
   "outputs": [
    {
     "name": "stdout",
     "output_type": "stream",
     "text": [
      "[0, 1, 2, 3, 4, 5, 6, 7, 8, 9, 10]\n"
     ]
    }
   ],
   "source": [
    "'''\n",
    "2. Using a while loop, create a list called L that contains the numbers 0 to 10. (i.e.: Your while loop should initialize a counter variable to 0. On each iteration, the loop should append the current value of the counter variable to L and then increase the counter by 1. The while loop should stop once the counter variable is greater than 10.)\n",
    "'''\n",
    "L = []\n",
    "count = 0\n",
    "while count <= 10:\n",
    "    L.append(count)\n",
    "    count += 1\n",
    "print (L)\n"
   ]
  },
  {
   "cell_type": "code",
   "execution_count": 3,
   "metadata": {},
   "outputs": [
    {
     "name": "stdout",
     "output_type": "stream",
     "text": [
      "[0, 1, 2, 3, 4, 5, 6, 7, 8, 9, 10, 11, 12, 13, 14, 15, 16, 17, 18, 19, 20]\n"
     ]
    }
   ],
   "source": [
    "'''\n",
    "3. Using a while loop, create a list called nums that contains the numbers 0 though 20. (i.e: your while looop should initialize a counter variable on 0. During each iteration, the loop should append the current value of the counter variable to nums and then increase the counter by 1. The while loop should stop once the counter variable is greater than 20)\n",
    "'''\n",
    "nums = []\n",
    "count = 0\n",
    "while count <= 20:\n",
    "    nums.append(count)\n",
    "    count += 1\n",
    "print (nums)\n"
   ]
  },
  {
   "cell_type": "code",
   "execution_count": null,
   "metadata": {},
   "outputs": [],
   "source": [
    "'''\n",
    "4. Modify the walking turtle program so that rather than a 90 degree left or right turn the angle of the turn is determined randomly at each step.\n",
    "\n",
    "'''\n",
    "import random\n",
    "import turtle\n",
    "\n",
    "def isInScreen(w,t):\n",
    "    leftBound = - w.window_width() / 2\n",
    "    rightBound = w.window_width() / 2\n",
    "    topBound = w.window_height() / 2\n",
    "    bottomBound = -w.window_height() / 2\n",
    "\n",
    "    turtleX = t.xcor()\n",
    "    turtleY = t.ycor()\n",
    "\n",
    "    stillIn = True\n",
    "    if turtleX > rightBound or turtleX < leftBound:\n",
    "        stillIn = False\n",
    "    if turtleY > topBound or turtleY < bottomBound:\n",
    "        stillIn = False\n",
    "\n",
    "    return stillIn\n",
    "\n",
    "t = turtle.Turtle()\n",
    "wn = turtle.Screen()\n",
    "\n",
    "t.shape('turtle')\n",
    "while isInScreen(wn,t):\n",
    "    coin = random.randrange(0, 2)\n",
    "    turn = random.randrange(0,90)\n",
    "    if coin == 0:\n",
    "        t.left(turn)\n",
    "    else:\n",
    "        t.right(turn)\n",
    "\n",
    "    t.forward(50)\n",
    "\n",
    "wn.exitonclick()\n",
    "\n"
   ]
  },
  {
   "cell_type": "code",
   "execution_count": null,
   "metadata": {},
   "outputs": [],
   "source": [
    "'''\n",
    "5. Modify the turtle walk program so that you have two turtles each with a random starting location. Keep the turtles moving until one of them leaves the screen.\n",
    "'''\n",
    "import random\n",
    "import turtle\n",
    "\n",
    "def isInScreen(w,t):\n",
    "    leftBound = - w.window_width() / 2\n",
    "    rightBound = w.window_width() / 2\n",
    "    topBound = w.window_height() / 2\n",
    "    bottomBound = -w.window_height() / 2\n",
    "\n",
    "    turtleX = t.xcor()\n",
    "    turtleY = t.ycor()\n",
    "\n",
    "    stillIn = True\n",
    "    if turtleX > rightBound or turtleX < leftBound:\n",
    "        stillIn = False\n",
    "    if turtleY > topBound or turtleY < bottomBound:\n",
    "        stillIn = False\n",
    "\n",
    "    return stillIn\n",
    "\n",
    "def isInScreen2(w,t2):\n",
    "    leftBound = - w.window_width() / 2\n",
    "    rightBound = w.window_width() / 2\n",
    "    topBound = w.window_height() / 2\n",
    "    bottomBound = -w.window_height() / 2\n",
    "\n",
    "    turtle2X = t2.xcor()\n",
    "    turtle2Y = t2.ycor()\n",
    "\n",
    "    stillIn = True\n",
    "    if turtle2X > rightBound or turtle2X < leftBound:\n",
    "        stillIn = False\n",
    "    if turtle2Y > topBound or turtle2Y < bottomBound:\n",
    "        stillIn = False\n",
    "\n",
    "    return stillIn\n",
    "\n",
    "t = turtle.Turtle()\n",
    "t2 = turtle.Turtle()\n",
    "wn = turtle.Screen()\n",
    "\n",
    "t.shape('turtle')\n",
    "t2.shape('turtle2')\n",
    "\n",
    "while isInScreen(wn,t):\n",
    "    coin = random.randrange(0, 2)\n",
    "    turn = random.randrange(0,90)\n",
    "    if coin == 0:\n",
    "        t.left(turn)\n",
    "    else:\n",
    "        t.right(turn)\n",
    "\n",
    "    t.forward(50)\n",
    "\n",
    "while isInScreen2(wn,t2):\n",
    "    coin = random.randrange(0, 2)\n",
    "    turn = random.randrange(0,90)\n",
    "    if coin == 0:\n",
    "        t2.left(turn)\n",
    "    else:\n",
    "        t2.right(turn)\n",
    "\n",
    "    t2.forward(50)         \n",
    "         \n",
    "wn.exitonclick()\n",
    "\n",
    "\n"
   ]
  },
  {
   "cell_type": "code",
   "execution_count": 4,
   "metadata": {},
   "outputs": [
    {
     "name": "stdout",
     "output_type": "stream",
     "text": [
      "[0, 10, 20, 30, 40, 50]\n"
     ]
    }
   ],
   "source": [
    "# 6. Create a while loop that initializes a counter at 0 and will run until the counter reaches 50. If the value of the counter is divisible by 10, append the value to the list, tens.\n",
    "tens = []\n",
    "count = 0\n",
    "while count <= 50:\n",
    "    if count % 10 == 0:\n",
    "        tens.append(count)\n",
    "    count += 1\n",
    "print (tens)\n"
   ]
  },
  {
   "cell_type": "code",
   "execution_count": 5,
   "metadata": {},
   "outputs": [
    {
     "name": "stdout",
     "output_type": "stream",
     "text": [
      "[0, 3, 6, 9, 12, 15, 18, 21, 24, 27, 30, 33]\n"
     ]
    }
   ],
   "source": [
    "# 7. Use a while loop to iterate through the numbers 0 through 35. If a number is divisible by 3, it should be appended to a list called three_nums.\n",
    "three_nums = []\n",
    "count = 0\n",
    "\n",
    "while count <= 35:\n",
    "    if count % 3 == 0:\n",
    "        three_nums.append(count)\n",
    "    count += 1\n",
    "print (three_nums)\n"
   ]
  },
  {
   "cell_type": "code",
   "execution_count": null,
   "metadata": {},
   "outputs": [],
   "source": []
  }
 ],
 "metadata": {
  "kernelspec": {
   "display_name": "Python 3",
   "language": "python",
   "name": "python3"
  },
  "language_info": {
   "codemirror_mode": {
    "name": "ipython",
    "version": 3
   },
   "file_extension": ".py",
   "mimetype": "text/x-python",
   "name": "python",
   "nbconvert_exporter": "python",
   "pygments_lexer": "ipython3",
   "version": "3.5.2"
  }
 },
 "nbformat": 4,
 "nbformat_minor": 4
}
