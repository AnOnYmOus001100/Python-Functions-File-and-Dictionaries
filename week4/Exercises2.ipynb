{
 "cells": [
  {
   "cell_type": "code",
   "execution_count": 1,
   "metadata": {},
   "outputs": [
    {
     "name": "stdout",
     "output_type": "stream",
     "text": [
      "10\n",
      "10\n",
      "9\n"
     ]
    }
   ],
   "source": [
    "#1. Fill in the parameter list for g so that the invocations of g yield the return values specified\n",
    "def g(x,y=2,z=2):\n",
    "    return 2*x + y + z\n",
    "print(g(3))       # should output 10\n",
    "print(g(3, 2))    # should output 8\n",
    "print(g(3, 2, 1)) #should output 9\n"
   ]
  },
  {
   "cell_type": "code",
   "execution_count": 3,
   "metadata": {},
   "outputs": [
    {
     "name": "stdout",
     "output_type": "stream",
     "text": [
      "6\n",
      "30\n",
      "-20\n",
      "-20\n"
     ]
    }
   ],
   "source": [
    "'''\n",
    " 2. Define a function called nums that has three parameters. The first parameter, an integer, should be required. A second parameter named mult_int should be optional with a default value of 5. The final parameter, switch, should also be optional with a default value of False. The function should multiply the two integers together, and if switch is True, should change the sign of the product before returning it.\n",
    "'''\n",
    "def nums(a,mult_int=5,switch=False):\n",
    "    if switch:\n",
    "        return -(a*mult_int)\n",
    "    else:\n",
    "        return a*mult_int\n",
    "\n",
    "print (nums(2,3))\n",
    "print (nums(6))\n",
    "print (nums(5,4,True))\n",
    "print (nums(4,switch=True))"
   ]
  },
  {
   "cell_type": "code",
   "execution_count": 5,
   "metadata": {},
   "outputs": [
    {
     "name": "stdout",
     "output_type": "stream",
     "text": [
      "2 hi\n",
      "3 is hello\n"
     ]
    }
   ],
   "source": [
    "'''\n",
    "3. Write a function called together that takes three parameters, the first is a required parameter that is a number (integer or float), the second is a required parameter that is a string, and the third is an optional parameter whose default is ” “. What is returned is the first parameter, concatenated with the second, using the third.\n",
    "'''\n",
    "def together(num,s,opt=\" \"):\n",
    "    return str(num) + opt + s\n",
    "\n",
    "print (together(2,\"hi\"))\n",
    "print (together(3,\"hello\",\" is \"))\n"
   ]
  },
  {
   "cell_type": "code",
   "execution_count": null,
   "metadata": {},
   "outputs": [],
   "source": []
  }
 ],
 "metadata": {
  "kernelspec": {
   "display_name": "Python 3",
   "language": "python",
   "name": "python3"
  },
  "language_info": {
   "codemirror_mode": {
    "name": "ipython",
    "version": 3
   },
   "file_extension": ".py",
   "mimetype": "text/x-python",
   "name": "python",
   "nbconvert_exporter": "python",
   "pygments_lexer": "ipython3",
   "version": "3.5.2"
  }
 },
 "nbformat": 4,
 "nbformat_minor": 4
}
