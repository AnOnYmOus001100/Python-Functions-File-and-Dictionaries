{
 "cells": [
  {
   "cell_type": "code",
   "execution_count": 1,
   "metadata": {},
   "outputs": [
    {
     "name": "stdout",
     "output_type": "stream",
     "text": [
      "<function f at 0x7f772557a488>\n",
      "<class 'function'>\n",
      "2\n",
      "<function <lambda> at 0x7f772557a8c8>\n",
      "<class 'function'>\n",
      "4\n"
     ]
    }
   ],
   "source": [
    "'''\n",
    "To further drive home the idea that we are passing a function object as a parameter to the sorted object, let’s see an alternative notation for creating a function, a lambda expression. The syntax of a lambda expression is the word “lambda” followed by parameter names, separated by commas but not inside (parentheses), followed by a colon and then an expression. lambda arguments: expression yields a function object. \n",
    "'''\n",
    "def f(x):\n",
    "    return x - 1\n",
    "\n",
    "print(f)\n",
    "print(type(f))\n",
    "print(f(3))\n",
    "\n",
    "print(lambda x: x-2)\n",
    "print(type(lambda x: x-2))\n",
    "print((lambda x: x-2)(6))\n"
   ]
  },
  {
   "cell_type": "code",
   "execution_count": 2,
   "metadata": {},
   "outputs": [],
   "source": [
    "#Say we want to create a function that takes a string and returns the last character in that string. What might this look like with the functions you’ve used before?\n",
    "def last_char(s):\n",
    "    return s[-1]\n",
    "#To re-write this using lambda notation, we can do the following:\n",
    "last_char = (lambda s: s[-1])"
   ]
  },
  {
   "cell_type": "code",
   "execution_count": 7,
   "metadata": {},
   "outputs": [
    {
     "data": {
      "text/plain": [
       "'\\n\\n15.4. 👩\\u200d💻 Programming With Style\\n\\nReadability is very important to programmers, since in practice programs are read and modified far more often then they are written.\\n\\nWe’ll have more to say about style as our programs become more complex, but a few pointers will be helpful already:\\n\\n    use 4 spaces for indentation\\n\\n    imports should go at the top of the file\\n\\n    separate function definitions with two blank lines\\n\\n    keep function definitions together\\n\\n    keep top level statements, including function calls, together at the bottom of the program\\n\\n\\n'"
      ]
     },
     "execution_count": 7,
     "metadata": {},
     "output_type": "execute_result"
    }
   ],
   "source": [
    "'''\n",
    "\n",
    "15.4. 👩‍💻 Programming With Style\n",
    "\n",
    "Readability is very important to programmers, since in practice programs are read and modified far more often then they are written.\n",
    "\n",
    "We’ll have more to say about style as our programs become more complex, but a few pointers will be helpful already:\n",
    "\n",
    "    use 4 spaces for indentation\n",
    "\n",
    "    imports should go at the top of the file\n",
    "\n",
    "    separate function definitions with two blank lines\n",
    "\n",
    "    keep function definitions together\n",
    "\n",
    "    keep top level statements, including function calls, together at the bottom of the program\n",
    "\n",
    "\n",
    "'''"
   ]
  },
  {
   "cell_type": "code",
   "execution_count": 8,
   "metadata": {},
   "outputs": [
    {
     "name": "stdout",
     "output_type": "stream",
     "text": [
      "<class 'list'>\n",
      "4\n",
      "['This', 'is', 'a', 'sentence']\n",
      "This\n",
      "is\n",
      "a\n",
      "sentence\n"
     ]
    }
   ],
   "source": [
    "'''\n",
    "There is one other special type of function called a method, which is invoked slightly differently. Some object types have methods defined for them. You have already seen some methods that operate on strings (e.g., find, index, split, join) and on lists (e.g., append, pop).\n",
    "\n",
    "We will not learn about how to define methods until later in the course, when we cover Classes. But it’s worth getting a basic understanding now of how methods are invoked. To invoke a method, the syntax is <expr>.<methodname>(<additional parameter values>).\n",
    "\n",
    "The expression to the left of the dot should evaluate to an object of the correct type, an object for which <methodname> is defined. The method will be applied to that object (that object will be a parameter value passed to the function/method.) If the method takes additional parameters (some do, some don’t), additional expressions that evaluate to values are included inside the parentheses.\n",
    "'''\n",
    "y = \"This is a sentence\"\n",
    "z = y.split()\n",
    "print(type(z))\n",
    "print(len(z))\n",
    "print(z)\n",
    "for w in z:\n",
    "    print(w)\n"
   ]
  },
  {
   "cell_type": "code",
   "execution_count": 9,
   "metadata": {},
   "outputs": [
    {
     "name": "stdout",
     "output_type": "stream",
     "text": [
      "Thi i a enence\n"
     ]
    }
   ],
   "source": [
    "'''\n",
    "Note that the thing to the left of the period can be any expression, not just a variable name. It can even be a return value from some other function call or method invocation. For example, if we want to remove the s and t characters from a string, we can do it all on one line as show below.\n",
    "'''\n",
    "print(\"This is a sentence\".replace(\"s\", \"\").replace(\"t\", \"\"))"
   ]
  },
  {
   "cell_type": "code",
   "execution_count": null,
   "metadata": {},
   "outputs": [],
   "source": []
  }
 ],
 "metadata": {
  "kernelspec": {
   "display_name": "Python 3",
   "language": "python",
   "name": "python3"
  },
  "language_info": {
   "codemirror_mode": {
    "name": "ipython",
    "version": 3
   },
   "file_extension": ".py",
   "mimetype": "text/x-python",
   "name": "python",
   "nbconvert_exporter": "python",
   "pygments_lexer": "ipython3",
   "version": "3.5.2"
  }
 },
 "nbformat": 4,
 "nbformat_minor": 4
}
