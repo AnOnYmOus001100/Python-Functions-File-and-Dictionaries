{
 "cells": [
  {
   "cell_type": "code",
   "execution_count": 1,
   "metadata": {},
   "outputs": [
    {
     "name": "stdout",
     "output_type": "stream",
     "text": [
      "[12, 44, 21]\n",
      "[2, 43, 56, 12, 4, 33]\n"
     ]
    }
   ],
   "source": [
    "'''\n",
    "1. Write a function, sublist, that takes in a list of numbers as the parameter. In the function, use a while loop to return a sublist of the input list. The sublist should contain the same values of the original list up until it reaches the number 5 (it should not contain the number 5).\n",
    "'''\n",
    "def sublist(lst):\n",
    "    sublist = []\n",
    "    count = 0\n",
    "    while count < len(lst):\n",
    "        if lst[count] != 5:\n",
    "            sublist.append(lst[count])\n",
    "        else:\n",
    "            return sublist\n",
    "        count += 1\n",
    "        \n",
    "    return sublist\n",
    "\n",
    "list1 = [12,44,21,5,6,76,5]\n",
    "list2 = [2,43,56,12,4,33]\n",
    "print (sublist(list1))\n",
    "print (sublist(list2))"
   ]
  },
  {
   "cell_type": "code",
   "execution_count": 2,
   "metadata": {},
   "outputs": [
    {
     "name": "stdout",
     "output_type": "stream",
     "text": [
      "[12, 434, 11, 45]\n",
      "[22, 34, 113, 0, 3]\n"
     ]
    }
   ],
   "source": [
    "'''\n",
    "2. Write a function called check_nums that takes a list as its parameter, and contains a while loop that only stops once the element of the list is the number 7. What is returned is a list of all of the numbers up until it reaches 7.\n",
    "'''\n",
    "def check_nums(lst):\n",
    "    ele = 0\n",
    "    sublist = []\n",
    "    \n",
    "    while ele < len(lst):\n",
    "        if lst[ele] != 7:\n",
    "            sublist.append(lst[ele])\n",
    "        else:\n",
    "            return sublist\n",
    "        ele += 1\n",
    "    return sublist\n",
    "\n",
    "list1 = [12,434,11,45,7,44,32]\n",
    "list2 = [22,34,113,0,3]\n",
    "\n",
    "print (check_nums(list1))\n",
    "print (check_nums(list2))\n"
   ]
  },
  {
   "cell_type": "code",
   "execution_count": 3,
   "metadata": {},
   "outputs": [
    {
     "name": "stdout",
     "output_type": "stream",
     "text": [
      "['ANY', 'START', 'NOT']\n",
      "['HERE', 'HOP', 'HI', 'BANG']\n"
     ]
    }
   ],
   "source": [
    "'''\n",
    "3. Write a function, sublist, that takes in a list of strings as the parameter. In the function, use a while loop to return a sublist of the input list. The sublist should contain the same values of the original list up until it reaches the string “STOP” (it should not contain the string “STOP”).\n",
    "'''\n",
    "def sublist(lst):\n",
    "    sub = []\n",
    "    counter = 0\n",
    "    \n",
    "    while counter < len(lst):\n",
    "        if lst[counter] != \"STOP\":\n",
    "            sub.append(lst[counter])\n",
    "        else:\n",
    "            return sub\n",
    "        counter += 1\n",
    "    return sub\n",
    "\n",
    "list1 = [\"ANY\",\"START\",\"NOT\",\"STOP\",\"BACK\"]\n",
    "list2 = [\"HERE\",\"HOP\",\"HI\",\"BANG\"]\n",
    "\n",
    "print (sublist(list1))\n",
    "print (sublist(list2))"
   ]
  },
  {
   "cell_type": "code",
   "execution_count": 4,
   "metadata": {},
   "outputs": [
    {
     "name": "stdout",
     "output_type": "stream",
     "text": [
      "['a', 'any', 'can']\n",
      "['not', 'here', 'd', 'nine']\n"
     ]
    }
   ],
   "source": [
    "# 4. Write a function called stop_at_z that iterates through a list of strings. Using a while loop, append each string to a new list until the string that appears is “z”. The function should return the new list.\n",
    "\n",
    "def stop_at_z(lst):\n",
    "    counter = 0\n",
    "    sublist = []\n",
    "    \n",
    "    while counter < len(lst):\n",
    "        if lst[counter] != \"z\":\n",
    "            sublist.append(lst[counter])\n",
    "        else:\n",
    "            return sublist\n",
    "        counter += 1\n",
    "    return sublist\n",
    "\n",
    "list1 = [\"a\",\"any\",\"can\",\"z\",\"c\",\"none\"]\n",
    "list2 = [\"not\",\"here\",\"d\",\"nine\"]\n",
    "print (stop_at_z(list1))\n",
    "print (stop_at_z(list2))"
   ]
  },
  {
   "cell_type": "code",
   "execution_count": 6,
   "metadata": {},
   "outputs": [
    {
     "name": "stdout",
     "output_type": "stream",
     "text": [
      "197\n",
      "197\n",
      "Is sum1 and sum2 equal  True\n"
     ]
    }
   ],
   "source": [
    "'''\n",
    "5. Below is a for loop that works. Underneath the for loop, rewrite the problem so that it does the same thing, but using a while loop instead of a for loop. Assign the accumulated total in the while loop code to the variable sum2. Once complete, sum2 should equal sum1.\n",
    "'''\n",
    "sum1 = 0\n",
    "\n",
    "lst = [65, 78, 21, 33]\n",
    "\n",
    "for x in lst:\n",
    "    sum1 = sum1 + x\n",
    "print (sum1)\n",
    "    \n",
    "sum2 = 0\n",
    "x = 0\n",
    "\n",
    "while x < len(lst):\n",
    "    sum2 += lst[x]\n",
    "    x += 1\n",
    "print (sum2)\n",
    "\n",
    "def sum_check():\n",
    "    if sum1 == sum2:\n",
    "        return True\n",
    "    else:\n",
    "        return False\n",
    "\n",
    "print (\"Is sum1 and sum2 equal \",sum_check())"
   ]
  },
  {
   "cell_type": "code",
   "execution_count": 7,
   "metadata": {},
   "outputs": [
    {
     "name": "stdout",
     "output_type": "stream",
     "text": [
      "['any', 'bot', 'hope']\n",
      "['by', 'faith', 'none', 'hi', 'crack', 'let']\n",
      "['by', 'faith', 'none', 'hi', 'crack', 'let', 'any', 'bot', 'hope', 'no']\n"
     ]
    }
   ],
   "source": [
    "#6. Challenge: Write a function called beginning that takes a list as input and contains a while loop that only stops once the element of the list is the string ‘bye’. What is returned is a list that contains up to the first 10 strings, regardless of where the loop stops. (i.e., if it stops on the 32nd element, the first 10 are returned. If “bye” is the 5th element, the first 4 are returned.) If you want to make this even more of a challenge, do this without slicing\n",
    "def beginning(lst):\n",
    "    counter = 0\n",
    "    sub10 = []\n",
    "    \n",
    "    while counter < len(lst):\n",
    "        if lst[counter] != 'bye' and counter < 10:\n",
    "            sub10.append(lst[counter])\n",
    "        else:\n",
    "            return sub10\n",
    "        counter += 1\n",
    "    return sub10\n",
    "\n",
    "list1 = ['any','bot','hope','bye','hack']\n",
    "list2 = ['by','faith','none','hi','crack','let']\n",
    "list3 = ['by','faith','none','hi','crack','let','any','bot','hope','no','bye','hack']\n",
    "\n",
    "print (beginning(list1))\n",
    "print (beginning(list2))\n",
    "print (beginning(list3))\n",
    "\n"
   ]
  },
  {
   "cell_type": "code",
   "execution_count": null,
   "metadata": {},
   "outputs": [],
   "source": []
  }
 ],
 "metadata": {
  "kernelspec": {
   "display_name": "Python 3",
   "language": "python",
   "name": "python3"
  },
  "language_info": {
   "codemirror_mode": {
    "name": "ipython",
    "version": 3
   },
   "file_extension": ".py",
   "mimetype": "text/x-python",
   "name": "python",
   "nbconvert_exporter": "python",
   "pygments_lexer": "ipython3",
   "version": "3.5.2"
  }
 },
 "nbformat": 4,
 "nbformat_minor": 4
}
